{
 "cells": [
  {
   "cell_type": "code",
   "execution_count": 25,
   "id": "dc3fb3ef-90bc-4138-b84e-51c677125f18",
   "metadata": {},
   "outputs": [],
   "source": [
    "import time\n",
    "from Crypto.Cipher import AES\n",
    "from Crypto.Random import get_random_bytes\n",
    "import base64\n",
    "import itertools"
   ]
  },
  {
   "cell_type": "code",
   "execution_count": 12,
   "id": "aa7c17a6-b7f6-42be-8784-5f394ba1ac53",
   "metadata": {},
   "outputs": [],
   "source": [
    "def pad(plaintext):\n",
    "    padding_len = 16 - len(plaintext) % 16\n",
    "    return plaintext + (chr(padding_len) * padding_len).encode()"
   ]
  },
  {
   "cell_type": "code",
   "execution_count": 13,
   "id": "cbba0399-af3f-48e3-a14b-736d914fc704",
   "metadata": {},
   "outputs": [],
   "source": [
    "def unpad(padded_text):\n",
    "    padding_len = padded_text[-1]\n",
    "    return padded_text[:-padding_len]\n"
   ]
  },
  {
   "cell_type": "code",
   "execution_count": 14,
   "id": "171ba359-a38c-43ed-b355-215d57cd9fea",
   "metadata": {},
   "outputs": [],
   "source": [
    "def aes_encrypt(plaintext, key):\n",
    "    cipher = AES.new(key, AES.MODE_ECB)\n",
    "    padded_text = pad(plaintext.encode())\n",
    "    ciphertext = cipher.encrypt(padded_text)\n",
    "    return base64.b64encode(ciphertext).decode()\n"
   ]
  },
  {
   "cell_type": "code",
   "execution_count": 15,
   "id": "925d8af3-5d2a-4a56-84df-a52373cca354",
   "metadata": {},
   "outputs": [],
   "source": [
    "def aes_decrypt(ciphertext, key):\n",
    "    cipher = AES.new(key, AES.MODE_ECB)\n",
    "    decoded_ct = base64.b64decode(ciphertext)\n",
    "    decrypted_text = cipher.decrypt(decoded_ct)\n",
    "    return unpad(decrypted_text).decode()\n"
   ]
  },
  {
   "cell_type": "code",
   "execution_count": 16,
   "id": "03c0e91c-3f68-44c5-9134-a0006cf3b676",
   "metadata": {},
   "outputs": [],
   "source": [
    "def brute_force_missing_last_byte(ciphertext, known_key_part, original_plaintext):\n",
    "    start_time = time.time()\n",
    "\n",
    "    for i in range(256):  # Try all 256 possible values for the missing byte\n",
    "        guessed_key = known_key_part + bytes([i])  # Append the guessed byte\n",
    "        try:\n",
    "            decrypted_text = aes_decrypt(ciphertext, guessed_key)\n",
    "            print(f\"Trying byte {hex(i)}: {decrypted_text}\")  \n",
    "            \n",
    "            if decrypted_text == original_plaintext:\n",
    "                end_time = time.time()\n",
    "                print(f\"Brute-force successful! Missing byte: {hex(i)}\")\n",
    "                print(f\"Recovered Key: {guessed_key.hex()}\")\n",
    "                print(f\"Time taken: {end_time - start_time:.4f} seconds\")\n",
    "                return guessed_key\n",
    "        except Exception as e:\n",
    "            print(f\"Failed attempt with byte {hex(i)}: {e}\")  \n",
    "            continue  \n",
    "\n",
    "    print(\"Brute-force failed. Correct key not found.\")\n",
    "    return None\n"
   ]
  },
  {
   "cell_type": "code",
   "execution_count": 18,
   "id": "76a63753-d397-4b7d-8074-53d562cab9f7",
   "metadata": {},
   "outputs": [
    {
     "name": "stdout",
     "output_type": "stream",
     "text": [
      "Generated Key (Hex): c01b36bf1c7401952a88e61fed97ff18\n",
      "Original Text: This is a text to test the program of the first homework for the cource CSC489 in this program we learn about encryption and decryption\n",
      "Encrypted Text: NzH2bKnEl1IPISQuNqX5A9B2KN6bKiR9VKO+ywKH1AtytuD3dtY6ibu9fRAb4QX9MGja6ZFk0nwxRH8ocnEL1s9OffXDweQsNHfHZrpM3flec4rLEv+QbrNfU3wUu9isUvjzn1IWVab0VI1byjGubfKKsGXrQQkYS+Qi5Ryvt0UrGFQMLSKCDKNQ1fl6/l7S\n",
      "Known Key Part (Hex): c01b36bf1c7401952a88e61fed97ff\n",
      "Trying byte 0x0: \n",
      "Failed attempt with byte 0x1: 'utf-8' codec can't decode byte 0xd9 in position 1: invalid continuation byte\n",
      "Trying byte 0x2: \n",
      "Failed attempt with byte 0x3: 'utf-8' codec can't decode byte 0xeb in position 13: invalid continuation byte\n",
      "Trying byte 0x4: \n",
      "Trying byte 0x5: \n",
      "Trying byte 0x6: \n",
      "Failed attempt with byte 0x7: 'utf-8' codec can't decode byte 0xb5 in position 0: invalid start byte\n",
      "Trying byte 0x8: \n",
      "Failed attempt with byte 0x9: 'utf-8' codec can't decode byte 0x90 in position 0: invalid start byte\n",
      "Trying byte 0xa: \u0019\n",
      "Trying byte 0xb: \n",
      "Failed attempt with byte 0xc: 'utf-8' codec can't decode byte 0x94 in position 1: invalid start byte\n",
      "Failed attempt with byte 0xd: 'utf-8' codec can't decode byte 0xef in position 0: invalid continuation byte\n",
      "Failed attempt with byte 0xe: 'utf-8' codec can't decode byte 0xde in position 9: invalid continuation byte\n",
      "Failed attempt with byte 0xf: 'utf-8' codec can't decode byte 0xe6 in position 1: invalid continuation byte\n",
      "Trying byte 0x10: \n",
      "Failed attempt with byte 0x11: 'utf-8' codec can't decode byte 0xa5 in position 5: invalid start byte\n",
      "Trying byte 0x12: \n",
      "Trying byte 0x13: \n",
      "Failed attempt with byte 0x14: 'utf-8' codec can't decode byte 0x8d in position 0: invalid start byte\n",
      "Trying byte 0x15: \n",
      "Failed attempt with byte 0x16: 'utf-8' codec can't decode byte 0x9f in position 0: invalid start byte\n",
      "Failed attempt with byte 0x17: 'utf-8' codec can't decode byte 0x8c in position 0: invalid start byte\n",
      "Trying byte 0x18: This is a text to test the program of the first homework for the cource CSC489 in this program we learn about encryption and decryption\n",
      "Brute-force successful! Missing byte: 0x18\n",
      "Recovered Key: c01b36bf1c7401952a88e61fed97ff18\n",
      "Time taken: 0.0080 seconds\n",
      "Decrypted Text: This is a text to test the program of the first homework for the cource CSC489 in this program we learn about encryption and decryption\n"
     ]
    }
   ],
   "source": [
    "if __name__ == \"__main__\":\n",
    "    key = get_random_bytes(16)\n",
    "    print(\"Generated Key (Hex):\", key.hex())\n",
    "\n",
    "    Text to encrypt\n",
    "    plaintext = \"This is a text to test the program of the first homework for the cource CSC489 in this program we learn about encryption and decryption\"\n",
    "    print(\"Original Text:\", plaintext)\n",
    "\n",
    "    # Encrypt the plaintext\n",
    "    encrypted_text = aes_encrypt(plaintext, key)\n",
    "    print(\"Encrypted Text:\", encrypted_text)\n",
    "\n",
    "    # Simulate missing last byte (we only keep first 15 bytes of the key)\n",
    "    known_key_part = key[:-1]  # First 15 bytes, missing the last one\n",
    "    print(\"Known Key Part (Hex):\", known_key_part.hex())\n",
    "\n",
    "    # Perform brute-force attack\n",
    "    recovered_key = brute_force_missing_last_byte(encrypted_text, known_key_part, plaintext)\n",
    "\n",
    "    # Verify \n",
    "    if recovered_key:\n",
    "        decrypted_text = aes_decrypt(encrypted_text, recovered_key)\n",
    "        print(\"Decrypted Text:\", decrypted_text)"
   ]
  },
  {
   "cell_type": "code",
   "execution_count": 19,
   "id": "7de1b619-6544-4cb0-b0ac-21eeef3f11c9",
   "metadata": {},
   "outputs": [],
   "source": [
    "def pad(plaintext):\n",
    "    padding_len = 16 - len(plaintext) % 16\n",
    "    padding = (chr(padding_len) * padding_len).encode()\n",
    "    return plaintext + padding"
   ]
  },
  {
   "cell_type": "code",
   "execution_count": 20,
   "id": "83be4e0a-71ef-41d8-83fd-4080175e2bf4",
   "metadata": {},
   "outputs": [],
   "source": [
    "def unpad(padded_text):\n",
    "    padding_len = padded_text[-1]\n",
    "    return padded_text[:-padding_len]\n"
   ]
  },
  {
   "cell_type": "code",
   "execution_count": 21,
   "id": "37cc75fd-4b17-4c01-91ea-144c383ec135",
   "metadata": {},
   "outputs": [],
   "source": [
    "def aes_encrypt(plaintext, key):\n",
    "    cipher = AES.new(key, AES.MODE_ECB)\n",
    "    padded_text = pad(plaintext.encode())\n",
    "    ciphertext = cipher.encrypt(padded_text)\n",
    "    return base64.b64encode(ciphertext).decode()"
   ]
  },
  {
   "cell_type": "code",
   "execution_count": 22,
   "id": "5f846a6b-25ee-44d7-b645-4eb25c90f507",
   "metadata": {},
   "outputs": [],
   "source": [
    "def aes_decrypt(ciphertext, key):\n",
    "    cipher = AES.new(key, AES.MODE_ECB)\n",
    "    decoded_ct = base64.b64decode(ciphertext)\n",
    "    decrypted_text = cipher.decrypt(decoded_ct)\n",
    "    return unpad(decrypted_text).decode()"
   ]
  },
  {
   "cell_type": "code",
   "execution_count": 23,
   "id": "bd59d758-c533-4b32-8812-008037dacfd0",
   "metadata": {},
   "outputs": [],
   "source": [
    "def brute_force_missing_last_4_bytes(ciphertext, known_key_part, original_plaintext):\n",
    "    start_time = time.time()\n",
    "    for guess in itertools.product(range(256), repeat=4):  \n",
    "        guessed_key = known_key_part + bytes(guess)\n",
    "        try:\n",
    "            decrypted_text = aes_decrypt(ciphertext, guessed_key)\n",
    "            if decrypted_text == original_plaintext:\n",
    "                end_time = time.time()\n",
    "                print(f\"\\nBrute-force successful! Missing bytes: {bytes(guess).hex()}\")\n",
    "                print(f\"Recovered Key: {guessed_key.hex()}\")\n",
    "                print(f\"Time taken: {end_time - start_time:.4f} seconds\")\n",
    "                return guessed_key\n",
    "        except:\n",
    "            continue \n",
    "    print(\"\\nBrute-force failed. Correct key not found.\")\n",
    "    return None\n"
   ]
  },
  {
   "cell_type": "code",
   "execution_count": null,
   "id": "0408ddcb-8d9c-4250-8bc9-4f7f737f29c0",
   "metadata": {},
   "outputs": [],
   "source": [
    "#if __name__ == \"__main__\":\n",
    "    key = get_random_bytes(16)\n",
    "    print(\"Generated Key (Hex):\", key.hex())\n",
    "\n",
    "    plaintext = (\"This is a text to test the program of the first homework for the cource CSC489 \"\n",
    "                 \"in this program we learn about encryption and decryption\")\n",
    "    print(\"Original Text:\", plaintext)\n",
    "\n",
    "    # Encryption\n",
    "    encrypted_text = aes_encrypt(plaintext, key)\n",
    "    print(\"Encrypted Text:\", encrypted_text)\n",
    "\n",
    "    known_key_part = key[:-4]  # First 12 bytes, missing the last 4\n",
    "    print(\"Known Key Part (Hex):\", known_key_part.hex())\n",
    "\n",
    "    # brute-force attack for 4 missing bytes\n",
    "    recovered_key = brute_force_missing_last_4_bytes(encrypted_text, known_key_part, plaintext)\n",
    "\n",
    "    # Verify\n",
    "    if recovered_key:\n",
    "        decrypted_text = aes_decrypt(encrypted_text, recovered_key)\n",
    "        print(\"Decrypted Text:\", decrypted_text)"
   ]
  },
  {
   "cell_type": "code",
   "execution_count": null,
   "id": "c55c3fe6-e2fb-4aa6-959a-bd8e76a92b01",
   "metadata": {},
   "outputs": [],
   "source": [
   ]
  },
  {
   "cell_type": "code",
   "execution_count": 1,
   "id": "6dc2cbbb-5ee9-4a4d-8514-770f6369d6da",
   "metadata": {},
   "outputs": [],
   "source": [
    "def pad(plaintext):\n",
    "    padding_len = 16 - len(plaintext) % 16\n",
    "    padding = (chr(padding_len) * padding_len).encode()\n",
    "    return plaintext + padding\n"
   ]
  },
  {
   "cell_type": "code",
   "execution_count": 2,
   "id": "015e6492-3039-49ec-b457-0403ecb785f5",
   "metadata": {},
   "outputs": [],
   "source": [
    "def unpad(padded_text):\n",
    "    padding_len = padded_text[-1]\n",
    "    return padded_text[:-padding_len]"
   ]
  },
  {
   "cell_type": "code",
   "execution_count": 3,
   "id": "cd6e80dc-00a1-4321-a3c7-2c45f85b1efb",
   "metadata": {},
   "outputs": [],
   "source": [
    "def aes_encrypt(plaintext, key)\n",
    "    cipher = AES.new(key, AES.MODE_ECB)\n",
    "    padded_text = pad(plaintext.encode())\n",
    "    ciphertext = cipher.encrypt(padded_text)\n",
    "    return base64.b64encode(ciphertext).decode()"
   ]
  },
  {
   "cell_type": "code",
   "execution_count": 4,
   "id": "ace3efd4-5586-46dc-b830-d8b2cd14b50b",
   "metadata": {},
   "outputs": [],
   "source": [
    "def aes_decrypt(ciphertext, key):\n",
    "    cipher = AES.new(key, AES.MODE_ECB)\n",
    "    decoded_ct = base64.b64decode(ciphertext)\n",
    "    decrypted_text = cipher.decrypt(decoded_ct)\n",
    "    return unpad(decrypted_text).decode()"
   ]
  },
  {
   "cell_type": "code",
   "execution_count": null,
   "id": "43f5632c-9973-4c7c-99a9-e00cc6e22f6e",
   "metadata": {},
   "outputs": [],
   "source": [
    "def brute_force_missing_last_8_bytes(ciphertext, known_key_part, original_plaintext):\n",
    "    start_time = time.time()\n",
    "    total_combinations = 2**64  \n",
    "    \n",
    "    for count, guess in enumerate(itertools.product(range(256), repeat=8)):\n",
    "        guessed_key = known_key_part + bytes(guess)\n",
    "        try:\n",
    "            decrypted_text = aes_decrypt(ciphertext, guessed_key)\n",
    "            if decrypted_text == original_plaintext:\n",
    "                end_time = time.time()\n",
    "                print(f\"\\n Brute-force successful!\")\n",
    "                print(f\"Missing bytes: {bytes(guess).hex()}\")\n",
    "                print(f\"Recovered Key: {guessed_key.hex()}\")\n",
    "                print(f\"Time taken: {end_time - start_time:.4f} seconds\")\n",
    "                return guessed_key\n",
    "        except:\n",
    "            pass  \n",
    "        print(\"\\n Brute-force faore failed attemptsiled. Correct key not found.\")\n",
    "    return None\n"
   ]
  },
  {
   "cell_type": "code",
   "execution_count": null,
   "id": "b4c5f262-4dc3-4460-93db-ac6c047c5c95",
   "metadata": {},
   "outputs": [],
   "source": [
    "if __name__ == \"__main__\":\n",
    "    \n",
    "    key = get_random_bytes(16)\n",
    "    print(\"Generated Key (Hex):\", key.hex())\n",
    "\n",
    "    \n",
    "    plaintext = (\"This is a text to test the program of the first homework for the cource CSC489 \"\n",
    "                 \"in this program we learn about encryption and decryption\")\n",
    "    print(\"Original Text:\", plaintext)\n",
    "\n",
    "    # Encrypt \n",
    "    encrypted_text = aes_encrypt(plaintext, key)\n",
    "    print(\"Encrypted Text:\", encrypted_text)\n",
    "\n",
    "    \n",
    "    known_key_part = key[:-8]  # First 8 bytes, missing the last 8\n",
    "    print(\"Known Key Part (Hex):\", known_key_part.hex())\n",
    "    recovered_key = brute_force_missing_last_8_bytes(encrypted_text, known_key_part, plaintext)"
   ]
  },
  {
   "cell_type": "code",
   "execution_count": null,
   "id": "db05a65d-80e7-4589-ad03-e4795668256d",
   "metadata": {},
   "outputs": [],
   "source": [
   ]
  },
  {
   "cell_type": "code",
   "execution_count": null,
   "id": "affdbc5e-caea-4fcd-af50-c5cad1328353",
   "metadata": {},
   "outputs": [],
   "source": []
  }
 ],
 "metadata": {
  "kernelspec": {
   "display_name": "Python 3 (ipykernel)",
   "language": "python",
   "name": "python3"
  },
  "language_info": {
   "codemirror_mode": {
    "name": "ipython",
    "version": 3
   },
   "file_extension": ".py",
   "mimetype": "text/x-python",
   "name": "python",
   "nbconvert_exporter": "python",
   "pygments_lexer": "ipython3",
   "version": "3.12.4"
  }
 },
 "nbformat": 4,
 "nbformat_minor": 5
}
