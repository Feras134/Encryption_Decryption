{
 "cells": [
  {
   "cell_type": "code",
   "execution_count": 15,
   "id": "13206293-7f74-4499-86e1-d4b762f226f5",
   "metadata": {},
   "outputs": [],
   "source": [
    "from Crypto.Cipher import AES\n",
    "from Crypto.Random import get_random_bytes\n",
    "import base64\n",
    "import os"
   ]
  },
  {
   "cell_type": "code",
   "execution_count": 8,
   "id": "4a03b9d3-576e-4f4b-b041-52b8bf37fc12",
   "metadata": {},
   "outputs": [],
   "source": [
    "def pad(plaintext):\n",
    "    padding_len = 16 - len(plaintext) % 16\n",
    "    return plaintext + (chr(padding_len) * padding_len).encode()\n"
   ]
  },
  {
   "cell_type": "code",
   "execution_count": 9,
   "id": "c1c2e32a-a7ba-4e5f-8609-089d6e0ccc92",
   "metadata": {},
   "outputs": [],
   "source": [
    "def unpad(padded_text):\n",
    "    padding_len = padded_text[-1]\n",
    "    return padded_text[:-padding_len]"
   ]
  },
  {
   "cell_type": "code",
   "execution_count": 10,
   "id": "a118c5a1-826a-45b6-8e5f-8dbc5c74c062",
   "metadata": {},
   "outputs": [],
   "source": [
    " #AES-128 Encryption Function\n",
    "def aes_encrypt(plaintext, key):\n",
    "    cipher = AES.new(key, AES.MODE_ECB)  \n",
    "    padded_text = pad(plaintext.encode())  \n",
    "    ciphertext = cipher.encrypt(padded_text)  \n",
    "    return base64.b64encode(ciphertext).decode()  "
   ]
  },
  {
   "cell_type": "code",
   "execution_count": 11,
   "id": "777887d1-cd42-44bb-9c56-666f7a635080",
   "metadata": {},
   "outputs": [],
   "source": [
    "# AES-128 Decryption Function\n",
    "def aes_decrypt(ciphertext, key):\n",
    "    cipher = AES.new(key, AES.MODE_ECB)  \n",
    "    decoded_ct = base64.b64decode(ciphertext)  \n",
    "    decrypted_text = cipher.decrypt(decoded_ct)  \n",
    "    return unpad(decrypted_text).decode()  "
   ]
  },
  {
   "cell_type": "code",
   "execution_count": 16,
   "id": "79a85677-87e1-4861-a2be-7c3dbb5e5c80",
   "metadata": {},
   "outputs": [
    {
     "name": "stdout",
     "output_type": "stream",
     "text": [
      "Generated Key (Hex): e7bddf051c401f633ad88c34823c80bf\n",
      "Original Text: This is a text to test the program of the first homework for the cource CSC489 in this program we learn about encryption and decryption\n",
      "Encrypted Text: oN6neCSMWjRvUnwms183CL+3IiJxhCebGI5cx+2ojv2nOeKqbSokcAodwiY9yLKOc2ZZ8hy6YJazxy9sDdWiua+ySMULGZv9UVpCaaZZZTLSK2bfy1vFhdwDuXj10Ccp5DVmQX6Jg/KxkOmMUlkLwnyTL9Rm55bSLbAkNVcAjSXM7YBwOiKc43NawrguOvY0\n",
      "Decrypted Text: This is a text to test the program of the first homework for the cource CSC489 in this program we learn about encryption and decryption\n"
     ]
    }
   ],
   "source": [
    "if __name__ == \"__main__\":\n",
    "    # Generate a random key\n",
    "    key = get_random_bytes(16)\n",
    "    print(\"Generated Key (Hex):\", key.hex())\n",
    "    \n",
    "    \n",
    "    plaintext = \"This is a text to test the program of the first homework for the cource CSC489 in this program we learn about encryption and decryption\"\n",
    "    print(\"Original Text:\", plaintext)\n",
    "\n",
    "    # Encrypt \n",
    "    encrypted_text = aes_encrypt(plaintext, key)\n",
    "    print(\"Encrypted Text:\", encrypted_text)\n",
    "\n",
    "    # Decrypt\n",
    "    decrypted_text = aes_decrypt(encrypted_text, key)\n",
    "    print(\"Decrypted Text:\", decrypted_text)\n",
    "\n",
    "    "
   ]
  },
  {
   "cell_type": "code",
   "execution_count": null,
   "id": "f4d59a61-4dac-4d83-b6f9-41ace2d60459",
   "metadata": {},
   "outputs": [],
   "source": []
  }
 ],
 "metadata": {
  "kernelspec": {
   "display_name": "Python 3 (ipykernel)",
   "language": "python",
   "name": "python3"
  },
  "language_info": {
   "codemirror_mode": {
    "name": "ipython",
    "version": 3
   },
   "file_extension": ".py",
   "mimetype": "text/x-python",
   "name": "python",
   "nbconvert_exporter": "python",
   "pygments_lexer": "ipython3",
   "version": "3.12.4"
  }
 },
 "nbformat": 4,
 "nbformat_minor": 5
}
